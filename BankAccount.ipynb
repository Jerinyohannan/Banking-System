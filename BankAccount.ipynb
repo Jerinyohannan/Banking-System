{
 "cells": [
  {
   "cell_type": "markdown",
   "id": "265263e7-9d6c-4ff4-a1ef-eeea6e4853f5",
   "metadata": {},
   "source": [
    "Dear Students,\n",
    "We have covered core python, now it's time to test your coding and logical skills, also to know how confident you are with the syntax, i'm giving you a small project:\n",
    "Write a python program to replicate a Banking system. The following features are mandatory:\n",
    "1. Account login\n",
    "2. Amount Depositing\n",
    "3. Amount Withdrawal\n",
    "Other than the above features you can add any other also."
   ]
  },
  {
   "cell_type": "code",
   "execution_count": 1,
   "id": "9d18ba09-e6dd-4148-82de-a82d81274c22",
   "metadata": {},
   "outputs": [],
   "source": [
    "class BankAccount:\n",
    "    def __init__(self,AccountNo,password,balance=0):\n",
    "        self.AccountNo=AccountNo\n",
    "        self.password=password\n",
    "        self.balance=balance\n",
    "        self.trans_history=[]\n",
    "        \n",
    "    def Deposit(self,amount):\n",
    "        self.balance +=amount\n",
    "        self.trans_history.append(f\"Deposited : {amount}\")\n",
    "        print(f'{amount} deposited successfully\\n Current balance : {self.balance}')\n",
    "        \n",
    "    def Withdraw(self,amount):\n",
    "        if self.balance >= amount>0:\n",
    "            self.balance -=amount\n",
    "            self.trans_history.append(f\"withdraw : {amount}\")\n",
    "            print(f'{amount} withdraw successfully\\n Current balance :{self.balance}')\n",
    "        else:\n",
    "            print(f\"Insufficient Balance \\n Current balance : {self.balance}\")\n",
    "            \n",
    "    def Check_balance(self):\n",
    "        print(f'Available Account Balance : {self.balance}')\n",
    "        \n",
    "    def Tran_history(self):\n",
    "        if self.trans_history:\n",
    "            print('Account Transaction History : ')\n",
    "            for trans in self.trans_history:\n",
    "                print(trans)\n",
    "        else:\n",
    "            print('No Transactions ')\n",
    "    \n",
    "  \n"
   ]
  },
  {
   "cell_type": "code",
   "execution_count": 3,
   "id": "b004ee37-af89-4c3b-9ce7-b63a12c5d3c4",
   "metadata": {},
   "outputs": [],
   "source": [
    "def create_account(Accounts):\n",
    "    account_no = input(\"Enter a new account number: \")\n",
    "    password = input(\"Enter a new password: \")\n",
    "    balance = float(input(\"Enter An Initial Deposit: \"))\n",
    "    new_account = BankAccount(account_no, password,balance)\n",
    "    Accounts.append(new_account)\n",
    "    print(\"Account Created Sucessfully\")\n",
    "\n",
    "\n",
    "\n",
    "\n",
    "def login(Accounts):\n",
    "    account_no=input('Enter Your Acount Number: ')\n",
    "    for account in Accounts:\n",
    "        if account.AccountNo == account_no:\n",
    "            password=input('Enter Your Password: ')\n",
    "            if account.password == password:\n",
    "                print(f'Login successful!\\n Account_no {account_no}')\n",
    "                return account\n",
    "            else: \n",
    "                print('Invalid Password Try Again')\n",
    "                return None\n",
    "    print('Account not Found')\n",
    "    return None\n"
   ]
  },
  {
   "cell_type": "code",
   "execution_count": 5,
   "id": "8defea51-7f4d-4c08-a569-2d21f6ccf3f6",
   "metadata": {},
   "outputs": [],
   "source": [
    "def main():\n",
    "    while True:\n",
    "        Choice=input('Do you have an Account? [Yes/No] : ').lower()\n",
    "        if Choice=='yes':\n",
    "            logged_in_account=login(Accounts)\n",
    "            if logged_in_account is not None:  \n",
    "                break\n",
    "        elif Choice=='no':\n",
    "            Option=input('Do you Want to create a New Account? [Yes/No] : ').lower()\n",
    "            if Option== 'yes':\n",
    "                create_account(Accounts)\n",
    "                continue\n",
    "            else:\n",
    "                print('Login Cancelled')\n",
    "        else:\n",
    "            print('invalid Entry ')\n",
    "            continue\n",
    "\n",
    "    while logged_in_account:\n",
    "        print(\"\\nOptions:\")\n",
    "        print(\"1. Deposit\")\n",
    "        print(\"2. Withdraw\")\n",
    "        print(\"3. Check Balance\")\n",
    "        print(\"4. View Transaction History\")\n",
    "        print(\"5. Logout\")\n",
    "\n",
    "        choice = input(\"Select an option (1-5): \")\n",
    "\n",
    "        if choice == '1':\n",
    "            amount = float(input(\"Enter amount to deposit: \"))\n",
    "            logged_in_account.Deposit(amount)\n",
    "\n",
    "        elif choice == '2':\n",
    "            amount = float(input(\"Enter amount to withdraw: \"))\n",
    "            logged_in_account.Withdraw(amount)\n",
    "\n",
    "        elif choice == '3':\n",
    "            logged_in_account.Check_balance()\n",
    "\n",
    "        elif choice == '4':\n",
    "            logged_in_account.Tran_history()\n",
    "\n",
    "        elif choice == '5':\n",
    "            print(\"Logging out...\")\n",
    "            break\n",
    "\n",
    "        else:\n",
    "            print(\"Invalid option. Please try again.\")\n",
    "    print(\"logged out\")"
   ]
  },
  {
   "cell_type": "code",
   "execution_count": 7,
   "id": "7425e56c-4096-48f5-b770-178c7847347f",
   "metadata": {},
   "outputs": [],
   "source": [
    "#Intialising Accounts list \n",
    "Accounts = []"
   ]
  },
  {
   "cell_type": "code",
   "execution_count": 9,
   "id": "e95b0772-5b8c-4bb5-9b40-50a4c0efc407",
   "metadata": {},
   "outputs": [
    {
     "name": "stdin",
     "output_type": "stream",
     "text": [
      "Do you have an Account? [Yes/No] :  no\n",
      "Do you Want to create a New Account? [Yes/No] :  yes\n",
      "Enter a new account number:  123456789\n",
      "Enter a new password:  1245\n",
      "Enter An Initial Deposit:  6000\n"
     ]
    },
    {
     "name": "stdout",
     "output_type": "stream",
     "text": [
      "Account Created Sucessfully\n"
     ]
    },
    {
     "name": "stdin",
     "output_type": "stream",
     "text": [
      "Do you have an Account? [Yes/No] :  yes\n",
      "Enter Your Acount Number:  123456789\n",
      "Enter Your Password:  1245\n"
     ]
    },
    {
     "name": "stdout",
     "output_type": "stream",
     "text": [
      "Login successful!\n",
      " Account_no 123456789\n",
      "\n",
      "Options:\n",
      "1. Deposit\n",
      "2. Withdraw\n",
      "3. Check Balance\n",
      "4. View Transaction History\n",
      "5. Logout\n"
     ]
    },
    {
     "name": "stdin",
     "output_type": "stream",
     "text": [
      "Select an option (1-5):  1\n",
      "Enter amount to deposit:  1000\n"
     ]
    },
    {
     "name": "stdout",
     "output_type": "stream",
     "text": [
      "1000.0 deposited successfully\n",
      " Current balance : 7000.0\n",
      "\n",
      "Options:\n",
      "1. Deposit\n",
      "2. Withdraw\n",
      "3. Check Balance\n",
      "4. View Transaction History\n",
      "5. Logout\n"
     ]
    },
    {
     "name": "stdin",
     "output_type": "stream",
     "text": [
      "Select an option (1-5):  2\n",
      "Enter amount to withdraw:  1000\n"
     ]
    },
    {
     "name": "stdout",
     "output_type": "stream",
     "text": [
      "1000.0 withdraw successfully\n",
      " Current balance :6000.0\n",
      "\n",
      "Options:\n",
      "1. Deposit\n",
      "2. Withdraw\n",
      "3. Check Balance\n",
      "4. View Transaction History\n",
      "5. Logout\n"
     ]
    },
    {
     "name": "stdin",
     "output_type": "stream",
     "text": [
      "Select an option (1-5):  3\n"
     ]
    },
    {
     "name": "stdout",
     "output_type": "stream",
     "text": [
      "Available Account Balance : 6000.0\n",
      "\n",
      "Options:\n",
      "1. Deposit\n",
      "2. Withdraw\n",
      "3. Check Balance\n",
      "4. View Transaction History\n",
      "5. Logout\n"
     ]
    },
    {
     "name": "stdin",
     "output_type": "stream",
     "text": [
      "Select an option (1-5):  4\n"
     ]
    },
    {
     "name": "stdout",
     "output_type": "stream",
     "text": [
      "Account Transaction History : \n",
      "Deposited : 1000.0\n",
      "withdraw : 1000.0\n",
      "\n",
      "Options:\n",
      "1. Deposit\n",
      "2. Withdraw\n",
      "3. Check Balance\n",
      "4. View Transaction History\n",
      "5. Logout\n"
     ]
    },
    {
     "name": "stdin",
     "output_type": "stream",
     "text": [
      "Select an option (1-5):  5\n"
     ]
    },
    {
     "name": "stdout",
     "output_type": "stream",
     "text": [
      "Logging out...\n",
      "logged out\n"
     ]
    }
   ],
   "source": [
    "if __name__ =='__main__':\n",
    "    main()"
   ]
  },
  {
   "cell_type": "code",
   "execution_count": null,
   "id": "87cac682-5f82-45cb-8adf-d7e05bef56ff",
   "metadata": {},
   "outputs": [],
   "source": []
  },
  {
   "cell_type": "code",
   "execution_count": null,
   "id": "fd3461fc-a157-4b27-90ba-184164837248",
   "metadata": {},
   "outputs": [],
   "source": []
  },
  {
   "cell_type": "code",
   "execution_count": null,
   "id": "256ff1d0-6cd8-43db-98cc-e217f12a79c4",
   "metadata": {},
   "outputs": [],
   "source": []
  },
  {
   "cell_type": "code",
   "execution_count": null,
   "id": "d50f22b5-6f82-4458-8c05-482688c8bde9",
   "metadata": {},
   "outputs": [],
   "source": []
  },
  {
   "cell_type": "code",
   "execution_count": null,
   "id": "797a59e2-b631-4f5b-8f0e-6dff469985f2",
   "metadata": {},
   "outputs": [],
   "source": []
  },
  {
   "cell_type": "code",
   "execution_count": null,
   "id": "2d6a5bba-88fa-41da-8d30-ce8abee8f9fc",
   "metadata": {},
   "outputs": [],
   "source": []
  },
  {
   "cell_type": "code",
   "execution_count": null,
   "id": "f6e01c60-ec53-474e-a3ac-55d667258878",
   "metadata": {},
   "outputs": [],
   "source": []
  },
  {
   "cell_type": "code",
   "execution_count": null,
   "id": "d73011d8-9e68-46bd-966e-fa36bf24d1e8",
   "metadata": {},
   "outputs": [],
   "source": []
  }
 ],
 "metadata": {
  "kernelspec": {
   "display_name": "Python 3 (ipykernel)",
   "language": "python",
   "name": "python3"
  },
  "language_info": {
   "codemirror_mode": {
    "name": "ipython",
    "version": 3
   },
   "file_extension": ".py",
   "mimetype": "text/x-python",
   "name": "python",
   "nbconvert_exporter": "python",
   "pygments_lexer": "ipython3",
   "version": "3.12.4"
  }
 },
 "nbformat": 4,
 "nbformat_minor": 5
}
